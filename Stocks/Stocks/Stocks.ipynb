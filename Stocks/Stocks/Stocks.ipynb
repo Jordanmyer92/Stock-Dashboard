{
 "cells": [
  {
   "cell_type": "code",
   "execution_count": 1,
   "id": "ordinary-poetry",
   "metadata": {},
   "outputs": [],
   "source": [
    "import plotly.graph_objects as go\n",
    "import plotly.express as px\n",
    "import plotly.figure_factory as ff\n",
    "from plotly.subplots import make_subplots\n",
    "import re\n",
    "from alpha_vantage.timeseries import TimeSeries\n",
    "from alpha_vantage.techindicators import TechIndicators\n",
    "from alpha_vantage.fundamentaldata import FundamentalData\n",
    "import pandas as pd\n",
    "from datetime import datetime\n",
    "import numpy as np"
   ]
  },
  {
   "cell_type": "code",
   "execution_count": 2,
   "id": "isolated-queens",
   "metadata": {},
   "outputs": [],
   "source": [
    "#API Key\n",
    "key = \"6Y9HBNUKXJKOL6D4\"\n",
    "\n",
    "#Get Data\n",
    "ts = TimeSeries(key, output_format = \"pandas\")\n",
    "ti = TechIndicators(key, output_format = \"pandas\")\n",
    "fd = FundamentalData(key, output_format = \"pandas\")"
   ]
  },
  {
   "cell_type": "code",
   "execution_count": 3,
   "id": "stretch-weekend",
   "metadata": {},
   "outputs": [],
   "source": [
    "#Ticker symbol\n",
    "x = \"MSFT\""
   ]
  },
  {
   "cell_type": "code",
   "execution_count": 4,
   "id": "excited-dryer",
   "metadata": {},
   "outputs": [],
   "source": [
    "daily_adjusted_data, meta_data = ts.get_daily_adjusted(symbol=\"x\")"
   ]
  },
  {
   "cell_type": "code",
   "execution_count": 5,
   "id": "israeli-teacher",
   "metadata": {},
   "outputs": [],
   "source": [
    "daily_adjusted_data = pd.DataFrame(daily_adjusted_data)"
   ]
  },
  {
   "cell_type": "code",
   "execution_count": 6,
   "id": "applicable-daniel",
   "metadata": {},
   "outputs": [],
   "source": [
    "adjusted_diff = daily_adjusted_data[\"5. adjusted close\"].diff()"
   ]
  },
  {
   "cell_type": "code",
   "execution_count": 7,
   "id": "ideal-inside",
   "metadata": {},
   "outputs": [],
   "source": [
    "reverse_daily = daily_adjusted_data.iloc[::-1]"
   ]
  },
  {
   "cell_type": "code",
   "execution_count": 8,
   "id": "progressive-hearing",
   "metadata": {},
   "outputs": [],
   "source": [
    "rev_adjusted_diff = reverse_daily[\"5. adjusted close\"].diff()"
   ]
  },
  {
   "cell_type": "code",
   "execution_count": 9,
   "id": "temporal-lebanon",
   "metadata": {},
   "outputs": [],
   "source": [
    "rev_adjusted_df = rev_adjusted_diff.to_frame()"
   ]
  },
  {
   "cell_type": "code",
   "execution_count": 10,
   "id": "derived-works",
   "metadata": {},
   "outputs": [],
   "source": [
    "daily_adjusted_df = pd.merge(daily_adjusted_data, rev_adjusted_df, how = \"inner\", on = \"date\")"
   ]
  },
  {
   "cell_type": "code",
   "execution_count": 11,
   "id": "ceramic-breath",
   "metadata": {},
   "outputs": [],
   "source": [
    "#DAILY ADJUSTED \n",
    "\n",
    "daily_adjusted_df = daily_adjusted_df.rename(columns={\"1. open\":\"Open\", \"2. high\":\"High\", \"3. low\":\"Low\", \"4. close\":\"Close\", \"5. adjusted close_x\":\"Adjusted_Close\", \"6. volume\":\"Volume\", \"7. dividend amount\":\"Dividend_Amount\", \"8. split coefficient\":\"Split_Coefficient\", \"5. adjusted close_y\":\"Difference_Adjusted_Close_(%)\"})"
   ]
  },
  {
   "cell_type": "code",
   "execution_count": 12,
   "id": "northern-motel",
   "metadata": {},
   "outputs": [],
   "source": [
    "daily_adjusted_df.reset_index(inplace=True)"
   ]
  },
  {
   "cell_type": "code",
   "execution_count": 13,
   "id": "subjective-grace",
   "metadata": {},
   "outputs": [],
   "source": [
    "#intraday_data, meta_data = ts.get_intraday(symbol=\"IIIN\", interval=\"1min\", outputsize=\"full\")"
   ]
  },
  {
   "cell_type": "code",
   "execution_count": 14,
   "id": "vulnerable-grade",
   "metadata": {},
   "outputs": [],
   "source": [
    "#intraday_data = pd.DataFrame(intraday_data)"
   ]
  },
  {
   "cell_type": "code",
   "execution_count": 15,
   "id": "congressional-shower",
   "metadata": {},
   "outputs": [],
   "source": [
    "#intraday_diff = intraday_data[\"4. close\"].diff()"
   ]
  },
  {
   "cell_type": "code",
   "execution_count": 16,
   "id": "revolutionary-message",
   "metadata": {},
   "outputs": [],
   "source": [
    "#reverse_intraday = intraday_data.iloc[::-1]"
   ]
  },
  {
   "cell_type": "code",
   "execution_count": 17,
   "id": "recognized-junior",
   "metadata": {},
   "outputs": [],
   "source": [
    "#reverse_intraday_diff = reverse_intraday[\"4. close\"].diff()"
   ]
  },
  {
   "cell_type": "code",
   "execution_count": 18,
   "id": "abstract-cooper",
   "metadata": {},
   "outputs": [],
   "source": [
    "#rev_intraday_df = reverse_intraday_diff.to_frame()"
   ]
  },
  {
   "cell_type": "code",
   "execution_count": 19,
   "id": "finite-batman",
   "metadata": {},
   "outputs": [],
   "source": [
    "#intraday_data_df = pd.merge(intraday_data, rev_intraday_df, how = \"inner\", on = \"date\")"
   ]
  },
  {
   "cell_type": "code",
   "execution_count": 20,
   "id": "senior-heart",
   "metadata": {},
   "outputs": [],
   "source": [
    "#INTRADAY \n",
    "\n",
    "#intraday_data_df = intraday_data_df.rename(columns={\"1. open\":\"Open\", \"2. high\":\"High\", \"3. low\":\"Low\", \"4. close_x\":\"Close\", \"5. volume\":\"Volume\", \"4. close_y\":\"Difference Close (%)\",})"
   ]
  },
  {
   "cell_type": "code",
   "execution_count": 21,
   "id": "revolutionary-parent",
   "metadata": {},
   "outputs": [],
   "source": [
    "#intraday_data_df.reset_index(inplace=True)\n",
    "\n",
    "#intraday_data_df"
   ]
  },
  {
   "cell_type": "code",
   "execution_count": 22,
   "id": "blank-bracelet",
   "metadata": {},
   "outputs": [],
   "source": [
    "#Exponential Moving Average (EMA) Used for long-term trends (50 day)\n",
    "ema_data_50, meta_data = ti.get_ema(symbol=\"x\", interval = \"daily\", time_period = \"50\", series_type = \"close\" )"
   ]
  },
  {
   "cell_type": "code",
   "execution_count": 23,
   "id": "ready-fifteen",
   "metadata": {},
   "outputs": [],
   "source": [
    "ema_50_df = pd.DataFrame(ema_data_50)"
   ]
  },
  {
   "cell_type": "code",
   "execution_count": 24,
   "id": "departmental-coordinator",
   "metadata": {},
   "outputs": [],
   "source": [
    "ema_50_df.reset_index(inplace=True)"
   ]
  },
  {
   "cell_type": "code",
   "execution_count": 25,
   "id": "desperate-discretion",
   "metadata": {},
   "outputs": [],
   "source": [
    "reverse_ema_50 = ema_50_df.iloc[::-1]"
   ]
  },
  {
   "cell_type": "code",
   "execution_count": 26,
   "id": "lesser-stuart",
   "metadata": {},
   "outputs": [],
   "source": [
    "reverse_ema_50 = reverse_ema_50.rename(columns={\"EMA\":\"EMA_50\"})"
   ]
  },
  {
   "cell_type": "code",
   "execution_count": 27,
   "id": "efficient-holmes",
   "metadata": {},
   "outputs": [],
   "source": [
    "#Exponential Moving Average (EMA) Used for long-term trends (200 day)\n",
    "ema_data_200, meta_data = ti.get_ema(symbol=\"x\", interval = \"daily\", time_period = \"200\", series_type = \"close\" )"
   ]
  },
  {
   "cell_type": "code",
   "execution_count": 28,
   "id": "peaceful-haiti",
   "metadata": {},
   "outputs": [],
   "source": [
    "ema_200_df = pd.DataFrame(ema_data_200)"
   ]
  },
  {
   "cell_type": "code",
   "execution_count": 29,
   "id": "interior-tunnel",
   "metadata": {},
   "outputs": [],
   "source": [
    "ema_200_df.reset_index(inplace=True)"
   ]
  },
  {
   "cell_type": "code",
   "execution_count": 30,
   "id": "opening-ideal",
   "metadata": {},
   "outputs": [],
   "source": [
    "reverse_ema_200 = ema_200_df.iloc[::-1]"
   ]
  },
  {
   "cell_type": "code",
   "execution_count": 31,
   "id": "painted-customer",
   "metadata": {},
   "outputs": [],
   "source": [
    "reverse_ema_200 = reverse_ema_200.rename(columns={\"EMA\":\"EMA_200\"})"
   ]
  },
  {
   "cell_type": "code",
   "execution_count": 32,
   "id": "welsh-century",
   "metadata": {},
   "outputs": [],
   "source": [
    "#Bollinger Bands (BBANDS) identify a stock's high and low volatility points\n",
    "bbands_data, meta_data = ti.get_bbands(symbol=\"x\", interval = \"daily\", time_period = \"20\", matype = \"0\")"
   ]
  },
  {
   "cell_type": "code",
   "execution_count": 33,
   "id": "rolled-notion",
   "metadata": {},
   "outputs": [],
   "source": [
    "bbands_df = pd.DataFrame(bbands_data)"
   ]
  },
  {
   "cell_type": "code",
   "execution_count": 34,
   "id": "postal-myanmar",
   "metadata": {},
   "outputs": [],
   "source": [
    "bbands_df.reset_index(inplace=True)"
   ]
  },
  {
   "cell_type": "code",
   "execution_count": 35,
   "id": "upset-painting",
   "metadata": {},
   "outputs": [],
   "source": [
    "#Relative Strength Index (RSI) measures magnitude of recent price changes. \n",
    "rsi_data, meta_data = ti.get_rsi(symbol=\"x\", interval = \"daily\", time_period = \"20\", series_type = \"close\")"
   ]
  },
  {
   "cell_type": "code",
   "execution_count": 36,
   "id": "proud-knitting",
   "metadata": {},
   "outputs": [],
   "source": [
    "rsi_data_df = pd.DataFrame(rsi_data)"
   ]
  },
  {
   "cell_type": "code",
   "execution_count": 37,
   "id": "employed-seventh",
   "metadata": {},
   "outputs": [],
   "source": [
    "rsi_data_df.reset_index(inplace=True)"
   ]
  },
  {
   "cell_type": "code",
   "execution_count": 38,
   "id": "gorgeous-desktop",
   "metadata": {},
   "outputs": [],
   "source": [
    "reverse_rsi = rsi_data_df.iloc[::-1]"
   ]
  },
  {
   "cell_type": "code",
   "execution_count": 40,
   "id": "commercial-provider",
   "metadata": {},
   "outputs": [],
   "source": [
    "#Moving Average Convergence Divergence (MACD) Used to determine trend or momentum\n",
    "macd_data, meta_data = ti.get_macd(symbol=\"x\", interval = \"daily\", series_type = \"close\")"
   ]
  },
  {
   "cell_type": "code",
   "execution_count": 41,
   "id": "african-contract",
   "metadata": {},
   "outputs": [],
   "source": [
    "macd_data.reset_index(inplace=True)"
   ]
  },
  {
   "cell_type": "code",
   "execution_count": 42,
   "id": "criminal-kidney",
   "metadata": {},
   "outputs": [],
   "source": [
    "#Average Directional Index (ADX) used to quantify trend strength. ADX value 0-25 = absent or weak trend, 25-50 = strong trend, 50-75 = very strong trend, 75-100 = extremely strong trend\n",
    "adx_data, meta_data = ti.get_adx(symbol=\"x\", interval = \"daily\", time_period = \"14\")"
   ]
  },
  {
   "cell_type": "code",
   "execution_count": 43,
   "id": "bridal-cooperation",
   "metadata": {},
   "outputs": [],
   "source": [
    "reverse_adx = adx_data.iloc[::-1]"
   ]
  },
  {
   "cell_type": "code",
   "execution_count": 44,
   "id": "musical-monte",
   "metadata": {},
   "outputs": [],
   "source": [
    "reverse_adx.reset_index(inplace=True)"
   ]
  },
  {
   "cell_type": "code",
   "execution_count": 45,
   "id": "unusual-denial",
   "metadata": {},
   "outputs": [],
   "source": [
    "plus_data, meta_data = ti.get_plus_dm(symbol=\"x\", interval = \"daily\", time_period = \"14\")"
   ]
  },
  {
   "cell_type": "code",
   "execution_count": 46,
   "id": "designing-experiment",
   "metadata": {},
   "outputs": [],
   "source": [
    "reverse_plus = plus_data.iloc[::-1]"
   ]
  },
  {
   "cell_type": "code",
   "execution_count": 47,
   "id": "geological-smoke",
   "metadata": {},
   "outputs": [],
   "source": [
    "reverse_plus.reset_index(inplace=True)"
   ]
  },
  {
   "cell_type": "code",
   "execution_count": 48,
   "id": "following-trader",
   "metadata": {},
   "outputs": [],
   "source": [
    "minus_data, meta_data = ti.get_minus_dm(symbol=\"x\", interval = \"daily\", time_period = \"14\")"
   ]
  },
  {
   "cell_type": "code",
   "execution_count": 49,
   "id": "following-collar",
   "metadata": {},
   "outputs": [],
   "source": [
    "reverse_minus = minus_data.iloc[::-1]"
   ]
  },
  {
   "cell_type": "code",
   "execution_count": 50,
   "id": "convinced-symphony",
   "metadata": {},
   "outputs": [],
   "source": [
    "reverse_minus.reset_index(inplace=True)"
   ]
  },
  {
   "cell_type": "code",
   "execution_count": 51,
   "id": "pressing-sender",
   "metadata": {},
   "outputs": [],
   "source": [
    "stocks = pd.merge(daily_adjusted_df, reverse_ema_50, on=\"date\")"
   ]
  },
  {
   "cell_type": "code",
   "execution_count": 52,
   "id": "iraqi-verse",
   "metadata": {},
   "outputs": [],
   "source": [
    "stocks2 = pd.merge(stocks, reverse_ema_200, on=\"date\")"
   ]
  },
  {
   "cell_type": "code",
   "execution_count": 53,
   "id": "statistical-prospect",
   "metadata": {},
   "outputs": [],
   "source": [
    "stocks3 = pd.merge(stocks2, bbands_df, on=\"date\")"
   ]
  },
  {
   "cell_type": "code",
   "execution_count": 54,
   "id": "moderate-rhythm",
   "metadata": {},
   "outputs": [],
   "source": [
    "stocks4 = pd.merge(stocks3, reverse_rsi, on=\"date\")"
   ]
  },
  {
   "cell_type": "code",
   "execution_count": 55,
   "id": "abstract-bundle",
   "metadata": {},
   "outputs": [],
   "source": [
    "stocks5 = pd.merge(stocks4, macd_data, on=\"date\")"
   ]
  },
  {
   "cell_type": "code",
   "execution_count": 56,
   "id": "central-visibility",
   "metadata": {},
   "outputs": [],
   "source": [
    "stocks6 = pd.merge(stocks5, reverse_adx, on=\"date\")"
   ]
  },
  {
   "cell_type": "code",
   "execution_count": 57,
   "id": "radical-adventure",
   "metadata": {},
   "outputs": [],
   "source": [
    "stocks7 = pd.merge(stocks6, reverse_plus, on=\"date\")"
   ]
  },
  {
   "cell_type": "code",
   "execution_count": 58,
   "id": "according-render",
   "metadata": {},
   "outputs": [],
   "source": [
    "stocks8 = pd.merge(stocks7, reverse_minus, on=\"date\")"
   ]
  },
  {
   "cell_type": "code",
   "execution_count": 59,
   "id": "imported-enemy",
   "metadata": {},
   "outputs": [],
   "source": [
    "4# Create a Pandas Excel writer using XlsxWriter as the engine.\n",
    "writer = pd.ExcelWriter(\"Stocks1.xlsx\", engine=\"xlsxwriter\")\n",
    "\n",
    "# Convert the dataframe to an XlsxWriter Excel object.\n",
    "stocks8.to_excel(writer, sheet_name=\"Sheet2\", index = False)\n",
    "\n",
    "# Close the Pandas Excel writer and output the Excel file.\n",
    "writer.save()"
   ]
  },
  {
   "cell_type": "code",
   "execution_count": null,
   "id": "empirical-authentication",
   "metadata": {},
   "outputs": [],
   "source": []
  },
  {
   "cell_type": "code",
   "execution_count": null,
   "id": "clean-inflation",
   "metadata": {},
   "outputs": [],
   "source": []
  },
  {
   "cell_type": "code",
   "execution_count": null,
   "id": "alpine-boost",
   "metadata": {},
   "outputs": [],
   "source": []
  }
 ],
 "metadata": {
  "kernelspec": {
   "display_name": "Python 3",
   "language": "python",
   "name": "python3"
  },
  "language_info": {
   "codemirror_mode": {
    "name": "ipython",
    "version": 3
   },
   "file_extension": ".py",
   "mimetype": "text/x-python",
   "name": "python",
   "nbconvert_exporter": "python",
   "pygments_lexer": "ipython3",
   "version": "3.6.12"
  }
 },
 "nbformat": 4,
 "nbformat_minor": 5
}
