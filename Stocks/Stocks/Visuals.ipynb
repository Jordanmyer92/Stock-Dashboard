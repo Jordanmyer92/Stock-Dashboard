{
 "cells": [
  {
   "cell_type": "code",
   "execution_count": null,
   "id": "square-administrator",
   "metadata": {},
   "outputs": [],
   "source": [
    "import plotly.graph_objects as go\n",
    "import plotly.express as px\n",
    "import plotly.figure_factory as ff\n",
    "from plotly.subplots import make_subplots\n",
    "import re\n",
    "from alpha_vantage.timeseries import TimeSeries\n",
    "from alpha_vantage.techindicators import TechIndicators\n",
    "from alpha_vantage.fundamentaldata import FundamentalData\n",
    "import pandas as pd\n",
    "from datetime import datetime\n",
    "import numpy as np\n",
    "import matplotlib.pyplot as plt\n",
    "from pandas_datareader import data as wb"
   ]
  },
  {
   "cell_type": "code",
   "execution_count": null,
   "id": "collected-wellington",
   "metadata": {},
   "outputs": [],
   "source": [
    "#API Key\n",
    "key = \"6Y9HBNUKXJKOL6D4\"\n",
    "\n",
    "#Get Data\n",
    "ts = TimeSeries(key, output_format = \"pandas\")\n",
    "ti = TechIndicators(key, output_format = \"pandas\")\n",
    "fd = FundamentalData(key, output_format = \"pandas\")"
   ]
  },
  {
   "cell_type": "code",
   "execution_count": null,
   "id": "hired-counter",
   "metadata": {},
   "outputs": [],
   "source": [
    "#Calculating a securities risk vs. Market\n",
    "tickers = [\"MSFT\", \"^GSPC\"]\n",
    "\n",
    "comp_data = pd.DataFrame()\n",
    "\n",
    "for t in tickers:\n",
    "    comp_data[t] = wb.DataReader(t, data_source = \"yahoo\", start = \"2011-1-1\")[\"Adj Close\"]"
   ]
  },
  {
   "cell_type": "code",
   "execution_count": null,
   "id": "chief-decade",
   "metadata": {},
   "outputs": [],
   "source": [
    "(comp_data / comp_data.iloc[0] * 100).plot(figsize(15, 6));\n",
    "\n",
    "plt.show()"
   ]
  },
  {
   "cell_type": "code",
   "execution_count": null,
   "id": "regular-breathing",
   "metadata": {},
   "outputs": [],
   "source": [
    "#Calculating a securities risk \n",
    "tickers = [\"MSFT\", \"AAPL\"]\n",
    "\n",
    "comp_data_2 = pd.DataFrame()\n",
    "\n",
    "for t in tickers:\n",
    "    comp_data_2[t] = wb.DataReader(t, data_source = \"yahoo\", start = \"2011-1-1\")[\"Adj Close\"]"
   ]
  },
  {
   "cell_type": "code",
   "execution_count": null,
   "id": "relative-investigator",
   "metadata": {},
   "outputs": [],
   "source": [
    "#comp_data.tail()"
   ]
  },
  {
   "cell_type": "code",
   "execution_count": null,
   "id": "aerial-assault",
   "metadata": {},
   "outputs": [],
   "source": [
    "comp_returns = np.log(comp_data_2 / comp_data_2.shift(1))"
   ]
  },
  {
   "cell_type": "code",
   "execution_count": null,
   "id": "creative-lambda",
   "metadata": {},
   "outputs": [],
   "source": [
    "#comp_returns"
   ]
  },
  {
   "cell_type": "code",
   "execution_count": null,
   "id": "nearby-limit",
   "metadata": {},
   "outputs": [],
   "source": [
    "#Daily average return over 250 trading days\n",
    "comp_returns[[\"MSFT\", \"AAPL\"]].mean() * 250"
   ]
  },
  {
   "cell_type": "code",
   "execution_count": null,
   "id": "polish-complex",
   "metadata": {},
   "outputs": [],
   "source": [
    "#Standard Deviation\n",
    "comp_returns[[\"MSFT\", \"AAPL\"]].std() * 250 ** 0.5"
   ]
  },
  {
   "cell_type": "code",
   "execution_count": null,
   "id": "arbitrary-mother",
   "metadata": {},
   "outputs": [],
   "source": [
    "#Ticker symbol\n",
    "x = \"MSFT\""
   ]
  },
  {
   "cell_type": "code",
   "execution_count": null,
   "id": "threatened-midwest",
   "metadata": {},
   "outputs": [],
   "source": [
    "daily_adjusted_data, meta_data = ts.get_daily_adjusted(symbol=\"x\")#, outputsize = \"full\")"
   ]
  },
  {
   "cell_type": "code",
   "execution_count": null,
   "id": "brazilian-virus",
   "metadata": {},
   "outputs": [],
   "source": [
    "daily_adjusted_data = pd.DataFrame(daily_adjusted_data)"
   ]
  },
  {
   "cell_type": "code",
   "execution_count": null,
   "id": "together-conclusion",
   "metadata": {},
   "outputs": [],
   "source": [
    "adjusted_diff = daily_adjusted_data[\"5. adjusted close\"].diff()"
   ]
  },
  {
   "cell_type": "code",
   "execution_count": null,
   "id": "integrated-algorithm",
   "metadata": {},
   "outputs": [],
   "source": [
    "reverse_daily = daily_adjusted_data.iloc[::-1]"
   ]
  },
  {
   "cell_type": "code",
   "execution_count": null,
   "id": "wanted-congress",
   "metadata": {},
   "outputs": [],
   "source": [
    "rev_adjusted_diff = reverse_daily[\"5. adjusted close\"].diff()"
   ]
  },
  {
   "cell_type": "code",
   "execution_count": null,
   "id": "perceived-mailman",
   "metadata": {},
   "outputs": [],
   "source": [
    "rev_adjusted_df = rev_adjusted_diff.to_frame()"
   ]
  },
  {
   "cell_type": "code",
   "execution_count": null,
   "id": "stupid-activity",
   "metadata": {},
   "outputs": [],
   "source": [
    "daily_adjusted_df = pd.merge(daily_adjusted_data, rev_adjusted_df, how = \"inner\", on = \"date\")"
   ]
  },
  {
   "cell_type": "code",
   "execution_count": null,
   "id": "drawn-optimization",
   "metadata": {},
   "outputs": [],
   "source": [
    "daily_adjusted_df = daily_adjusted_df.rename(columns={\"1. open\":\"Open\", \"2. high\":\"High\", \"3. low\":\"Low\", \"4. close\":\"Close\", \"5. adjusted close_x\":\"Adjusted_Close\", \"6. volume\":\"Volume\", \"7. dividend amount\":\"Dividend_Amount\", \"8. split coefficient\":\"Split_Coefficient\", \"5. adjusted close_y\":\"Difference_Adjusted_Close_(%)\"})"
   ]
  },
  {
   "cell_type": "code",
   "execution_count": null,
   "id": "brief-forum",
   "metadata": {},
   "outputs": [],
   "source": [
    "daily_adjusted_df.reset_index(inplace=True)"
   ]
  },
  {
   "cell_type": "code",
   "execution_count": null,
   "id": "joint-swiss",
   "metadata": {},
   "outputs": [],
   "source": [
    "#Overview of company\n",
    "#Company_overview, meta_data = fd.get_company_overview(symbol=\"x\")"
   ]
  },
  {
   "cell_type": "code",
   "execution_count": null,
   "id": "adult-assurance",
   "metadata": {},
   "outputs": [],
   "source": [
    "#DAILY ADJUSTED \n",
    "\n",
    "fig = go.Figure(data=[go.Candlestick(x=daily_adjusted_df[\"date\"],\n",
    "               open=daily_adjusted_df[\"Open\"],\n",
    "               high=daily_adjusted_df[\"High\"],\n",
    "               low=daily_adjusted_df[\"Low\"],\n",
    "               close=daily_adjusted_df[\"Close\"])])\n",
    "\n",
    "\n",
    "\n",
    "\n",
    "fig.update_xaxes(\n",
    "    rangeslider_visible=True,\n",
    "    rangeselector=dict(\n",
    "        buttons=list([\n",
    "            dict(count=1, label=\"1m\", step=\"month\", stepmode=\"backward\"),\n",
    "            dict(count=6, label=\"6m\", step=\"month\", stepmode=\"backward\"),\n",
    "            dict(count=1, label=\"YTD\", step=\"year\", stepmode=\"todate\"),\n",
    "            dict(count=1, label=\"1y\", step=\"year\", stepmode=\"backward\"),\n",
    "            dict(step=\"all\")\n",
    "        ])\n",
    "    )\n",
    ")\n",
    "\n",
    "fig.update_traces(increasing_line_color=\"green\", selector=dict(type='candlestick'))\n",
    "fig.show()"
   ]
  },
  {
   "cell_type": "code",
   "execution_count": null,
   "id": "frank-token",
   "metadata": {},
   "outputs": [],
   "source": []
  },
  {
   "cell_type": "code",
   "execution_count": null,
   "id": "normal-peninsula",
   "metadata": {},
   "outputs": [],
   "source": []
  }
 ],
 "metadata": {
  "kernelspec": {
   "display_name": "Python 3",
   "language": "python",
   "name": "python3"
  },
  "language_info": {
   "codemirror_mode": {
    "name": "ipython",
    "version": 3
   },
   "file_extension": ".py",
   "mimetype": "text/x-python",
   "name": "python",
   "nbconvert_exporter": "python",
   "pygments_lexer": "ipython3",
   "version": "3.6.12"
  }
 },
 "nbformat": 4,
 "nbformat_minor": 5
}
